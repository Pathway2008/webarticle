{
 "cells": [
  {
   "cell_type": "code",
   "execution_count": 1,
   "metadata": {},
   "outputs": [
    {
     "name": "stdout",
     "output_type": "stream",
     "text": [
      "pandas version:  2.0.0\n",
      "numpy version:  1.24.2\n",
      "scipy version:  1.10.1\n",
      "implicit version:  0.7.2\n"
     ]
    }
   ],
   "source": [
    "import pandas as pd\n",
    "import numpy as np\n",
    "import random\n",
    "import os\n",
    "from scipy.spatial.distance import pdist, squareform\n",
    "import scipy\n",
    "from implicit.nearest_neighbours import bm25_weight\n",
    "import implicit\n",
    "\n",
    "\n",
    "def seed_everything(seed):\n",
    "    random.seed(seed)\n",
    "    os.environ['PYTHONHASHSEED'] = str(seed)\n",
    "    np.random.seed(seed)\n",
    "\n",
    "seed_everything(42)\n",
    "\n",
    "print('pandas version: ', pd.__version__)\n",
    "print('numpy version: ', np.__version__)\n",
    "print('scipy version: ', scipy.__version__)\n",
    "print('implicit version: ', implicit.__version__)"
   ]
  },
  {
   "cell_type": "code",
   "execution_count": 2,
   "metadata": {},
   "outputs": [],
   "source": [
    "view_log = pd.read_csv('data/view_log.csv')\n",
    "article_info = pd.read_csv('data/article_info.csv')\n",
    "sample_submission = pd.read_csv('data/sample_submission.csv')"
   ]
  },
  {
   "cell_type": "code",
   "execution_count": 3,
   "metadata": {},
   "outputs": [],
   "source": [
    "# view count를 bm25 weight로 바꿔주기\n",
    "user_article_matrix = view_log.groupby(['userID', 'articleID']).size().unstack(fill_value=0)\n",
    "user_article_matrix = bm25_weight(user_article_matrix, K1=3.95, B=0.2)\n",
    "user_article_matrix = pd.DataFrame.sparse.from_spmatrix(user_article_matrix)\n",
    "user_article_matrix.index = view_log.groupby(['userID', 'articleID']).size().unstack(fill_value=0).index\n",
    "user_article_matrix.columns = view_log.groupby(['userID', 'articleID']).size().unstack(fill_value=0).columns\n",
    "\n",
    "# bm25 weight를 이용해서 유저간 코사인 유사도 구해주기\n",
    "user_similarity = pdist(user_article_matrix, metric='cosine')\n",
    "user_similarity = 1 - squareform(user_similarity)\n",
    "\n",
    "# 모든 user/item pair별 추천 점수 계산\n",
    "user_predicted_scores = user_similarity.dot(user_article_matrix) / np.array([np.abs(user_similarity).sum(axis=1)]).T\n",
    "\n",
    "# 이미 조회한 기사 포함해서 추천\n",
    "recommendations = []\n",
    "for idx, user in enumerate(user_article_matrix.index):    \n",
    "    # 높은 점수대로 정렬\n",
    "    sorted_indices = user_predicted_scores[idx].argsort()[::-1]\n",
    "    sorted_recommend = [article for article in user_article_matrix.columns[sorted_indices]]\n",
    "    \n",
    "    for article in sorted_recommend:\n",
    "        recommendations.append([user, article])\n",
    "        \n",
    "sorted_recommendations_bm25 = pd.DataFrame(recommendations, columns=['userID', 'articleID'])"
   ]
  },
  {
   "cell_type": "code",
   "execution_count": 4,
   "metadata": {},
   "outputs": [
    {
     "data": {
      "application/vnd.jupyter.widget-view+json": {
       "model_id": "0325ce2fb17340a8bdd707e015fae5ac",
       "version_major": 2,
       "version_minor": 0
      },
      "text/plain": [
       "  0%|          | 0/250 [00:00<?, ?it/s]"
      ]
     },
     "metadata": {},
     "output_type": "display_data"
    }
   ],
   "source": [
    "# bm25 weight이용해서 logistic matrix factorization 트레이닝하기\n",
    "user_article_matrix = view_log.groupby(['userID', 'articleID']).size().unstack(fill_value=0)\n",
    "user_article_matrix = bm25_weight(user_article_matrix, K1=3.95, B=0.2)\n",
    "Xui_csr = scipy.sparse.csr_matrix(user_article_matrix)\n",
    "\n",
    "enu = view_log.groupby(['userID', 'articleID']).size().unstack(fill_value=0).index\n",
    "items = list(view_log.groupby(['userID', 'articleID']).size().unstack(fill_value=0).columns)\n",
    "\n",
    "model = implicit.cpu.lmf.LogisticMatrixFactorization(factors=300,\n",
    "                                        learning_rate=0.2159180023813538,\n",
    "                                        regularization=7.44635012137320653,\n",
    "                                        iterations=250,\n",
    "                                        neg_prop=100,\n",
    "                                        random_state=42)\n",
    "\n",
    "model.fit(Xui_csr)"
   ]
  },
  {
   "cell_type": "code",
   "execution_count": 5,
   "metadata": {},
   "outputs": [],
   "source": [
    "recommendations = []\n",
    "for idx, user in enumerate(enu):     \n",
    "    sorted_recommend = model.recommend(idx, Xui_csr[idx], N=len(items), filter_already_liked_items=False)\n",
    "    sorted_recommend = [items[r] for r in sorted_recommend[0]]\n",
    "    for article in sorted_recommend:\n",
    "        recommendations.append([user, article])\n",
    "\n",
    "sorted_recommendations_lmf = pd.DataFrame(recommendations, columns=['userID', 'articleID'])"
   ]
  },
  {
   "cell_type": "code",
   "execution_count": 6,
   "metadata": {},
   "outputs": [
    {
     "data": {
      "text/html": [
       "<div>\n",
       "<style scoped>\n",
       "    .dataframe tbody tr th:only-of-type {\n",
       "        vertical-align: middle;\n",
       "    }\n",
       "\n",
       "    .dataframe tbody tr th {\n",
       "        vertical-align: top;\n",
       "    }\n",
       "\n",
       "    .dataframe thead th {\n",
       "        text-align: right;\n",
       "    }\n",
       "</style>\n",
       "<table border=\"1\" class=\"dataframe\">\n",
       "  <thead>\n",
       "    <tr style=\"text-align: right;\">\n",
       "      <th></th>\n",
       "      <th>userID</th>\n",
       "      <th>articleID</th>\n",
       "    </tr>\n",
       "  </thead>\n",
       "  <tbody>\n",
       "    <tr>\n",
       "      <th>0</th>\n",
       "      <td>USER_0000</td>\n",
       "      <td>ARTICLE_0411</td>\n",
       "    </tr>\n",
       "    <tr>\n",
       "      <th>1</th>\n",
       "      <td>USER_0000</td>\n",
       "      <td>ARTICLE_2834</td>\n",
       "    </tr>\n",
       "    <tr>\n",
       "      <th>2</th>\n",
       "      <td>USER_0000</td>\n",
       "      <td>ARTICLE_2255</td>\n",
       "    </tr>\n",
       "    <tr>\n",
       "      <th>3</th>\n",
       "      <td>USER_0000</td>\n",
       "      <td>ARTICLE_2316</td>\n",
       "    </tr>\n",
       "    <tr>\n",
       "      <th>4</th>\n",
       "      <td>USER_0000</td>\n",
       "      <td>ARTICLE_1345</td>\n",
       "    </tr>\n",
       "    <tr>\n",
       "      <th>...</th>\n",
       "      <td>...</td>\n",
       "      <td>...</td>\n",
       "    </tr>\n",
       "    <tr>\n",
       "      <th>7070</th>\n",
       "      <td>USER_1420</td>\n",
       "      <td>ARTICLE_0030</td>\n",
       "    </tr>\n",
       "    <tr>\n",
       "      <th>7071</th>\n",
       "      <td>USER_1420</td>\n",
       "      <td>ARTICLE_0614</td>\n",
       "    </tr>\n",
       "    <tr>\n",
       "      <th>7072</th>\n",
       "      <td>USER_1420</td>\n",
       "      <td>ARTICLE_0714</td>\n",
       "    </tr>\n",
       "    <tr>\n",
       "      <th>7073</th>\n",
       "      <td>USER_1420</td>\n",
       "      <td>ARTICLE_1732</td>\n",
       "    </tr>\n",
       "    <tr>\n",
       "      <th>7074</th>\n",
       "      <td>USER_1420</td>\n",
       "      <td>ARTICLE_2622</td>\n",
       "    </tr>\n",
       "  </tbody>\n",
       "</table>\n",
       "<p>7075 rows × 2 columns</p>\n",
       "</div>"
      ],
      "text/plain": [
       "         userID     articleID\n",
       "0     USER_0000  ARTICLE_0411\n",
       "1     USER_0000  ARTICLE_2834\n",
       "2     USER_0000  ARTICLE_2255\n",
       "3     USER_0000  ARTICLE_2316\n",
       "4     USER_0000  ARTICLE_1345\n",
       "...         ...           ...\n",
       "7070  USER_1420  ARTICLE_0030\n",
       "7071  USER_1420  ARTICLE_0614\n",
       "7072  USER_1420  ARTICLE_0714\n",
       "7073  USER_1420  ARTICLE_1732\n",
       "7074  USER_1420  ARTICLE_2622\n",
       "\n",
       "[7075 rows x 2 columns]"
      ]
     },
     "execution_count": 6,
     "metadata": {},
     "output_type": "execute_result"
    }
   ],
   "source": [
    "# 각 df의 user/item pair마다 랭킹을 매겨주고 총합 랭킹이 높은 5개의 article 추천\n",
    "sorted_recommendations_bm25['rank'] = sorted_recommendations_bm25.groupby('userID').cumcount() + 1\n",
    "sorted_recommendations_lmf['rank'] = sorted_recommendations_lmf.groupby('userID').cumcount() + 1\n",
    "\n",
    "df = sorted_recommendations_lmf.merge(sorted_recommendations_bm25,\n",
    "                                      how='inner',\n",
    "                                      left_on=['userID', 'articleID'],\n",
    "                                      right_on=['userID', 'articleID'])\n",
    "df['rank_total'] = df['rank_x'] + df['rank_y']\n",
    "top5 = df.groupby('userID', group_keys=False).apply(lambda x: x.sort_values('rank_total').head(5))\n",
    "top5.reset_index(drop=True, inplace=True)\n",
    "top5 = top5.drop(columns=['rank_x', 'rank_y', 'rank_total'])\n",
    "top5"
   ]
  },
  {
   "cell_type": "code",
   "execution_count": 7,
   "metadata": {},
   "outputs": [],
   "source": [
    "# top5.to_csv('submission/bm25_with_cosine_and_lmf_reproduce_with_42_with_pop_and_random.csv', index=False)"
   ]
  }
 ],
 "metadata": {
  "kernelspec": {
   "display_name": "articleRec",
   "language": "python",
   "name": "python3"
  },
  "language_info": {
   "codemirror_mode": {
    "name": "ipython",
    "version": 3
   },
   "file_extension": ".py",
   "mimetype": "text/x-python",
   "name": "python",
   "nbconvert_exporter": "python",
   "pygments_lexer": "ipython3",
   "version": "3.9.19"
  }
 },
 "nbformat": 4,
 "nbformat_minor": 2
}
